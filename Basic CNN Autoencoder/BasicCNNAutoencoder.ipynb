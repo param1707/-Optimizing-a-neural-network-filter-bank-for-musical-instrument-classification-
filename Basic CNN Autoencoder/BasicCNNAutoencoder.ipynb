{
  "nbformat": 4,
  "nbformat_minor": 0,
  "metadata": {
    "colab": {
      "name": "BasicCNNAutoencoder.ipynb",
      "provenance": [],
      "authorship_tag": "ABX9TyMZfDAahMJ47/pqYmJxK0ya",
      "include_colab_link": true
    },
    "kernelspec": {
      "name": "python3",
      "display_name": "Python 3"
    }
  },
  "cells": [
    {
      "cell_type": "markdown",
      "metadata": {
        "id": "view-in-github",
        "colab_type": "text"
      },
      "source": [
        "<a href=\"https://colab.research.google.com/github/param1707/-Optimizing-a-neural-network-filter-bank-for-musical-instrument-classification-/blob/main/Basic%20CNN%20Autoencoder/BasicCNNAutoencoder.ipynb\" target=\"_parent\"><img src=\"https://colab.research.google.com/assets/colab-badge.svg\" alt=\"Open In Colab\"/></a>"
      ]
    },
    {
      "cell_type": "markdown",
      "metadata": {
        "id": "XieCi-TdtrGq"
      },
      "source": [
        "# **Basic Convolutional Neural Network AutoEncoder notebook**"
      ]
    },
    {
      "cell_type": "code",
      "metadata": {
        "id": "9ESWisr4oxuz"
      },
      "source": [
        ""
      ],
      "execution_count": null,
      "outputs": []
    },
    {
      "cell_type": "code",
      "metadata": {
        "id": "VbFzkBj9PwnF"
      },
      "source": [
        "import torch\n",
        "import torch.nn as nn\n",
        "import torch.nn.functional as F\n",
        "\n",
        "import numpy as np\n",
        "import matplotlib.pyplot as plt\n",
        "import sys\n",
        "import os\n",
        "import scipy.io.wavfile as wav\n",
        "#from sound import sound"
      ],
      "execution_count": 63,
      "outputs": []
    },
    {
      "cell_type": "code",
      "metadata": {
        "id": "7FbQ0E3HoyuR"
      },
      "source": [
        "def signal2pytorch(x):\n",
        "   #Function to convert a signal vector x, like a mono audio signal, into a 3-d Tensor that conv1d of Pytorch expects,\n",
        "   #Argument x: a 1-d signal as numpy array\n",
        "   #input x[batch,sample]\n",
        "   #output: 3-d Tensor X for conv1d input.\n",
        "   #for conv1d Input: (N,Cin,Lin), Cin: numer of input channels (e.g. for stereo), Lin: length of signal, N: number of Batches (signals) \n",
        "   X = np.expand_dims(x, axis=0)  #add channels dimension (here only 1 channel)\n",
        "   if len(x.shape)==1: #mono:\n",
        "      X = np.expand_dims(X, axis=0)  #add batch dimension (here only 1 batch)\n",
        "   X=torch.from_numpy(X)\n",
        "   X=X.type(torch.Tensor)\n",
        "   X=X.permute(1,0,2)  #make batch dimension first\n",
        "   return X"
      ],
      "execution_count": 64,
      "outputs": []
    },
    {
      "cell_type": "code",
      "metadata": {
        "id": "AcSvwgKTo4qi"
      },
      "source": [
        "class Convautoenc(nn.Module):\n",
        "   def __init__(self):\n",
        "      super(Convautoenc, self).__init__()\n",
        "      #Analysis Filterbank with downsampling of N=1024, filter length of 2N, but only N/2 outputs:\n",
        "      self.conv1=nn.Conv1d(in_channels=1, out_channels=32, kernel_size=2048, stride=1024, padding=1023, bias=True) #Padding for 'same' filters (kernel_size/2-1)\n",
        "\n",
        "      #Synthesis filter bank:\n",
        "      self.synconv1=nn.ConvTranspose1d(in_channels=32, out_channels=1, kernel_size=2048, stride=1024, padding=1023, bias=True)\n",
        "\n",
        "   def encoder(self, x):\n",
        "      #Analysis:\n",
        "      x = self.conv1(x)\n",
        "      y = torch.tanh(x)\n",
        "      return y\n",
        "      \n",
        "   def decoder(self, y):\n",
        "      #Synthesis:\n",
        "      xrek= self.synconv1(y)\n",
        "      return xrek\n",
        "      \n",
        "   def forward(self, x):\n",
        "      y=self.encoder(x)\n",
        "      #y=torch.round(y/0.125)*0.125\n",
        "      xrek=self.decoder(y)\n",
        "      return xrek"
      ],
      "execution_count": 65,
      "outputs": []
    },
    {
      "cell_type": "code",
      "metadata": {
        "id": "wnZGYAWgpHeU",
        "outputId": "62343b4f-f9a4-4a21-82bf-9319deb519ef",
        "colab": {
          "base_uri": "https://localhost:8080/",
          "height": 248
        }
      },
      "source": [
        "!wget https://raw.githubusercontent.com/param1707/-Optimizing-a-neural-network-filter-bank-for-musical-instrument-classification-/main/Track16.wav\n",
        "print('Track16.wav loaded')"
      ],
      "execution_count": 69,
      "outputs": [
        {
          "output_type": "stream",
          "text": [
            "--2020-10-25 16:52:06--  https://raw.githubusercontent.com/param1707/-Optimizing-a-neural-network-filter-bank-for-musical-instrument-classification-/main/Track16.wav\n",
            "Resolving raw.githubusercontent.com (raw.githubusercontent.com)... 151.101.0.133, 151.101.64.133, 151.101.128.133, ...\n",
            "Connecting to raw.githubusercontent.com (raw.githubusercontent.com)|151.101.0.133|:443... connected.\n",
            "HTTP request sent, awaiting response... 200 OK\n",
            "Length: 1790336 (1.7M) [audio/wav]\n",
            "Saving to: ‘Track16.wav.4’\n",
            "\n",
            "Track16.wav.4       100%[===================>]   1.71M  --.-KB/s    in 0.1s    \n",
            "\n",
            "2020-10-25 16:52:06 (12.1 MB/s) - ‘Track16.wav.4’ saved [1790336/1790336]\n",
            "\n",
            "Track16.wav loaded\n"
          ],
          "name": "stdout"
        }
      ]
    },
    {
      "cell_type": "code",
      "metadata": {
        "id": "zzX3grHCpX_J",
        "outputId": "3fbc303a-71f7-4b98-834d-a9d87d5b9a5e",
        "colab": {
          "base_uri": "https://localhost:8080/",
          "height": 210
        }
      },
      "source": [
        "batch=2 #number of audio files in the batch\n",
        "filename = 'Track16.wav'\n",
        "fs, audio = wav.read(filename)\n",
        "audio0=audio[:,0] #make it mono left channel\n",
        "audio1=audio[:,1] #make it mono right channel\n",
        "#audio=audio*1.0/2**15 #normalize\n",
        "audio0=audio0*1.0/np.max(np.abs(audio0)) #normalize\n",
        "audio1=audio1*1.0/np.max(np.abs(audio1)) #normalize\n",
        "print(\"audio0.shape=\", audio0.shape)\n",
        "#audiosh=audio[46750:58750] #shorten the signal for faster optimization,\n",
        "#audiosh=audio[10000:60000] \n",
        "\n",
        "X=signal2pytorch(audio0) #Convert to pytorch format, batch is first dimension    \n",
        "\n",
        "print(\"Generate Model:\")\n",
        "model = Convautoenc()\n",
        "\n",
        "print(\"Def. loss function:\")\n",
        "loss_fn = nn.MSELoss()  #MSE\n",
        "#loss_fn = nn.L1Loss()\n",
        "\n",
        "Ypred=model(X)\n",
        "\n",
        "outputlen=len(Ypred[0,0,:]) #length of the signal at the output of the network.\n",
        "print(\"outputlen=\", outputlen)\n",
        "\n",
        "Y=X[:,:,:outputlen]  #the target signal with same length as model output\n",
        "\n",
        "print(\"Input X.shape=\", X.shape )\n",
        "print(\"Target Y.shape=\", Y.shape)\n",
        "print(\"Target Y=\", Y)\n",
        "\n",
        "print(\"Y.type()=\", Y.type())\n",
        "\n",
        "\n",
        "learning_rate = 1e-4\n",
        "optimizer = torch.optim.Adam(model.parameters(), lr=learning_rate)\n",
        "\n",
        "Ypred=model(X)\n",
        "#Ypred=Ypred.detach()\n",
        "print(\"Ypred=\", Ypred)"
      ],
      "execution_count": 76,
      "outputs": [
        {
          "output_type": "stream",
          "text": [
            "audio0.shape= (447573,)\n",
            "Generate Model:\n",
            "Def. loss function:\n",
            "outputlen= 447490\n",
            "Input X.shape= torch.Size([1, 1, 447573])\n",
            "Target Y.shape= torch.Size([1, 1, 447490])\n",
            "Target Y= tensor([[[ 0.0000e+00,  0.0000e+00,  0.0000e+00,  ..., -4.5912e-05,\n",
            "           4.5912e-05, -4.5912e-05]]])\n",
            "Y.type()= torch.FloatTensor\n",
            "Ypred= tensor([[[0.0049, 0.0035, 0.0059,  ..., 0.0085, 0.0035, 0.0050]]],\n",
            "       grad_fn=<SqueezeBackward1>)\n"
          ],
          "name": "stdout"
        }
      ]
    },
    {
      "cell_type": "code",
      "metadata": {
        "id": "5ARdFJnKqei7",
        "outputId": "6fc1d515-c67a-46b5-d31f-6d6ff9785a0b",
        "colab": {
          "base_uri": "https://localhost:8080/",
          "height": 1000
        }
      },
      "source": [
        "losses = np.zeros(1999)\n",
        "for epoch in range(2000):\n",
        "          Ypred=model(X)\n",
        "          losses[epoch - 1] = loss.item()\n",
        "          loss=loss_fn(Ypred, Y)\n",
        "          if epoch%10==0:\n",
        "             print(epoch, loss.item())\n",
        "          optimizer.zero_grad()\n",
        "          loss.backward()\n",
        "          optimizer.step()"
      ],
      "execution_count": 84,
      "outputs": [
        {
          "output_type": "stream",
          "text": [
            "0 0.0011529640760272741\n",
            "10 0.0011485632276162505\n",
            "20 0.001144219422712922\n",
            "30 0.0011399250943213701\n",
            "40 0.0011356845498085022\n",
            "50 0.0011314955772832036\n",
            "60 0.0011273582931607962\n",
            "70 0.0011232702527195215\n",
            "80 0.0011192308738827705\n",
            "90 0.0011152449296787381\n",
            "100 0.001111305202357471\n",
            "110 0.0011074129724875093\n",
            "120 0.0011035705683752894\n",
            "130 0.001099772984161973\n",
            "140 0.0010960226645693183\n",
            "150 0.0010923187946900725\n",
            "160 0.0010886610252782702\n",
            "170 0.0010850478429347277\n",
            "180 0.001081479829736054\n",
            "190 0.0010779547737911344\n",
            "200 0.0010744734900072217\n",
            "210 0.0010710344649851322\n",
            "220 0.0010676385136321187\n",
            "230 0.001064283074811101\n",
            "240 0.00106097012758255\n",
            "250 0.0010576967615634203\n",
            "260 0.0010544640244916081\n",
            "270 0.0010512712178751826\n",
            "280 0.0010481156641617417\n",
            "290 0.0010449993424117565\n",
            "300 0.0010419219033792615\n",
            "310 0.0010388813680037856\n",
            "320 0.0010358772706240416\n",
            "330 0.001032909145578742\n",
            "340 0.001029977691359818\n",
            "350 0.00102707976475358\n",
            "360 0.0010242178104817867\n",
            "370 0.0010213896166533232\n",
            "380 0.0010185936698690057\n",
            "390 0.0010158313671126962\n",
            "400 0.0010131009621545672\n",
            "410 0.001010402454994619\n",
            "420 0.001007735962048173\n",
            "430 0.0010050988057628274\n",
            "440 0.0010024930816143751\n",
            "450 0.0009999164612963796\n",
            "460 0.0009973691776394844\n",
            "470 0.0009948514634743333\n",
            "480 0.0009923609904944897\n",
            "490 0.0009898985736072063\n",
            "500 0.0009874628158286214\n",
            "510 0.000985054881311953\n",
            "520 0.000982673023827374\n",
            "530 0.0009803161956369877\n",
            "540 0.0009779863758012652\n",
            "550 0.0009756803628988564\n",
            "560 0.0009733993792906404\n",
            "570 0.0009711422026157379\n",
            "580 0.0009689094149507582\n",
            "590 0.0009666997939348221\n",
            "600 0.0009645132231526077\n",
            "610 0.0009623487712815404\n",
            "620 0.000960207253228873\n",
            "630 0.0009580869227647781\n",
            "640 0.0009559892350807786\n",
            "650 0.0009539116872474551\n",
            "660 0.000951855443418026\n",
            "670 0.0009498200379312038\n",
            "680 0.0009478044812567532\n",
            "690 0.0009458091226406395\n",
            "700 0.0009438336710445583\n",
            "710 0.0009418764384463429\n",
            "720 0.0009399396949447691\n",
            "730 0.0009380209958180785\n",
            "740 0.0009361209231428802\n",
            "750 0.0009342384873889387\n",
            "760 0.0009323744452558458\n",
            "770 0.0009305279236286879\n",
            "780 0.000928699504584074\n",
            "790 0.0009268877911381423\n",
            "800 0.0009250926086679101\n",
            "810 0.0009233147720806301\n",
            "820 0.0009215528261847794\n",
            "830 0.0009198074694722891\n",
            "840 0.0009180784691125154\n",
            "850 0.0009163643699139357\n",
            "860 0.0009146661614067852\n",
            "870 0.0009129839017987251\n",
            "880 0.0009113162523135543\n",
            "890 0.0009096637950278819\n",
            "900 0.0009080251911655068\n",
            "910 0.000906402594409883\n",
            "920 0.000904793618246913\n",
            "930 0.0009031993104144931\n",
            "940 0.0009016185067594051\n",
            "950 0.0009000518475659192\n",
            "960 0.0008984989835880697\n",
            "970 0.0008969589835032821\n",
            "980 0.0008954325458034873\n",
            "990 0.0008939189137890935\n",
            "1000 0.0008924189023673534\n",
            "1010 0.000890931289177388\n",
            "1020 0.0008894566562958062\n",
            "1030 0.0008879941888153553\n",
            "1040 0.0008865440613590181\n",
            "1050 0.0008851060410961509\n",
            "1060 0.0008836801862344146\n",
            "1070 0.0008822655072435737\n",
            "1080 0.0008808643324300647\n",
            "1090 0.0008794726454652846\n",
            "1100 0.0008780930656939745\n",
            "1110 0.0008767250692471862\n",
            "1120 0.0008753678994253278\n",
            "1130 0.000874022429343313\n",
            "1140 0.0008726870291866362\n",
            "1150 0.0008713623392395675\n",
            "1160 0.0008700482430867851\n",
            "1170 0.0008687448571436107\n",
            "1180 0.000867451773956418\n",
            "1190 0.0008661685278639197\n",
            "1200 0.000864896341226995\n",
            "1210 0.0008637244463898242\n",
            "1220 0.0008624698966741562\n",
            "1230 0.0008612082456238568\n",
            "1240 0.0008600130095146596\n",
            "1250 0.0008588128257542849\n",
            "1260 0.0008576215477660298\n",
            "1270 0.0008564457530155778\n",
            "1280 0.0008552815415896475\n",
            "1290 0.0008541270508430898\n",
            "1300 0.0008529825136065483\n",
            "1310 0.0008518457179889083\n",
            "1320 0.000850717187859118\n",
            "1330 0.0008495969232171774\n",
            "1340 0.0008484844001941383\n",
            "1350 0.0008473797352053225\n",
            "1360 0.0008462833357043564\n",
            "1370 0.0008451944449916482\n",
            "1380 0.0008441128884442151\n",
            "1390 0.0008430385496467352\n",
            "1400 0.0008419717196375132\n",
            "1410 0.0008409120491705835\n",
            "1420 0.0008398599456995726\n",
            "1430 0.0008388148853555322\n",
            "1440 0.0008377762278541923\n",
            "1450 0.0008368002017959952\n",
            "1460 0.0008361375657841563\n",
            "1470 0.000834987498819828\n",
            "1480 0.0008338873740285635\n",
            "1490 0.0008328265976160765\n",
            "1500 0.0008318526670336723\n",
            "1510 0.0008308892138302326\n",
            "1520 0.0008299383334815502\n",
            "1530 0.0008289933321066201\n",
            "1540 0.0008280564215965569\n",
            "1550 0.0008271251572296023\n",
            "1560 0.0008261988405138254\n",
            "1570 0.0008252784609794617\n",
            "1580 0.000824363378342241\n",
            "1590 0.0008234535926021636\n",
            "1600 0.0008225496276281774\n",
            "1610 0.0008216506103053689\n",
            "1620 0.0008207568316720426\n",
            "1630 0.0008198681753128767\n",
            "1640 0.000818984059151262\n",
            "1650 0.0008181052980944514\n",
            "1660 0.0008172314264811575\n",
            "1670 0.0008163710008375347\n",
            "1680 0.0008171457448042929\n",
            "1690 0.0008148509659804404\n",
            "1700 0.000813982100225985\n",
            "1710 0.0008130713831633329\n",
            "1720 0.0008122018189169466\n",
            "1730 0.0008113746880553663\n",
            "1740 0.0008105639717541635\n",
            "1750 0.0008097573881968856\n",
            "1760 0.0008089554612524807\n",
            "1770 0.0008081577834673226\n",
            "1780 0.0008073636563494802\n",
            "1790 0.0008065738365985453\n",
            "1800 0.0008057868690229952\n",
            "1810 0.0008050048490986228\n",
            "1820 0.0008042265544645488\n",
            "1830 0.0008034524507820606\n",
            "1840 0.0008026807336136699\n",
            "1850 0.0008019138476811349\n",
            "1860 0.000801151036284864\n",
            "1870 0.0008005371200852096\n",
            "1880 0.0007998129003681242\n",
            "1890 0.0007990786689333618\n",
            "1900 0.0007981867529451847\n",
            "1910 0.0007974693435244262\n",
            "1920 0.0007967296405695379\n",
            "1930 0.0007960100192576647\n",
            "1940 0.0007952919695526361\n",
            "1950 0.0007945791003294289\n",
            "1960 0.0007938688504509628\n",
            "1970 0.0007931622094474733\n",
            "1980 0.0007924577803350985\n",
            "1990 0.0007917573675513268\n"
          ],
          "name": "stdout"
        }
      ]
    },
    {
      "cell_type": "code",
      "metadata": {
        "id": "k0k7jovvsFWW",
        "outputId": "571fcab8-662b-4d5d-d7cf-e6a783f627bc",
        "colab": {
          "base_uri": "https://localhost:8080/",
          "height": 52
        }
      },
      "source": [
        "print(range(epoch))\n",
        "print(losses)"
      ],
      "execution_count": 85,
      "outputs": [
        {
          "output_type": "stream",
          "text": [
            "range(0, 1999)\n",
            "[0.00115296 0.00115252 0.00115208 ... 0.00079134 0.00079127 0.0007912 ]\n"
          ],
          "name": "stdout"
        }
      ]
    },
    {
      "cell_type": "code",
      "metadata": {
        "id": "ukPSfCrtsW6P",
        "outputId": "141e5428-66ca-43a0-97da-363a36eb316b",
        "colab": {
          "base_uri": "https://localhost:8080/",
          "height": 295
        }
      },
      "source": [
        "plt.figure(1)\n",
        "\n",
        "plt.plot(range(epoch),losses)\n",
        "plt.title('Training loss');\n",
        "plt.xlabel('epoch'); plt.ylabel('Loss');\n",
        "plt.show()"
      ],
      "execution_count": 86,
      "outputs": [
        {
          "output_type": "display_data",
          "data": {
            "image/png": "[encoded data removed]",
            "text/plain": [
              "<Figure size 432x288 with 1 Axes>"
            ]
          },
          "metadata": {
            "tags": [],
            "needs_background": "light"
          }
        }
      ]
    }
  ]
}