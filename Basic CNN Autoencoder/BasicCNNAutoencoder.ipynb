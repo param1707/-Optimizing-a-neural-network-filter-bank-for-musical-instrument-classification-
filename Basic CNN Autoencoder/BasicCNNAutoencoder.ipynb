{
  "nbformat": 4,
  "nbformat_minor": 0,
  "metadata": {
    "colab": {
      "name": "BasicCNNAutoencoder.ipynb",
      "provenance": [],
      "toc_visible": true,
      "authorship_tag": "ABX9TyOxuyBp8Sn2I7UCP9JkSuPo",
      "include_colab_link": true
    },
    "kernelspec": {
      "name": "python3",
      "display_name": "Python 3"
    }
  },
  "cells": [
    {
      "cell_type": "markdown",
      "metadata": {
        "id": "view-in-github",
        "colab_type": "text"
      },
      "source": [
        "<a href=\"https://colab.research.google.com/github/param1707/-Optimizing-a-neural-network-filter-bank-for-musical-instrument-classification-/blob/main/BasicCNNAutoencoder.ipynb\" target=\"_parent\"><img src=\"https://colab.research.google.com/assets/colab-badge.svg\" alt=\"Open In Colab\"/></a>"
      ]
    },
    {
      "cell_type": "markdown",
      "metadata": {
        "id": "XieCi-TdtrGq"
      },
      "source": [
        "# **Basic Convolutional Neural Network AutoEncoder notebook**"
      ]
    },
    {
      "cell_type": "markdown",
      "metadata": {
        "id": "kyBWvmoTYmAF"
      },
      "source": [
        "# **cell for installing a module or package**"
      ]
    },
    {
      "cell_type": "code",
      "metadata": {
        "id": "Gysd6fjkYykT"
      },
      "source": [
        ""
      ],
      "execution_count": null,
      "outputs": []
    },
    {
      "cell_type": "markdown",
      "metadata": {
        "id": "zKZHJm9lYvKr"
      },
      "source": [
        "# **Necessary Import for our notebook**"
      ]
    },
    {
      "cell_type": "code",
      "metadata": {
        "id": "VbFzkBj9PwnF"
      },
      "source": [
        "import torch\n",
        "import torch.nn as nn\n",
        "import torch.nn.functional as F\n",
        "\n",
        "import numpy as np\n",
        "import matplotlib.pyplot as plt\n",
        "import sys\n",
        "import os\n",
        "import scipy.io.wavfile as wav\n",
        "from IPython.display import Audio\n",
        "#from sound import sound"
      ],
      "execution_count": null,
      "outputs": []
    },
    {
      "cell_type": "markdown",
      "metadata": {
        "id": "9e7LCyb3ZBYw"
      },
      "source": [
        "## **Function to convert signal audio vector to tensor**"
      ]
    },
    {
      "cell_type": "code",
      "metadata": {
        "id": "7FbQ0E3HoyuR"
      },
      "source": [
        "def signal2pytorch(x):\n",
        "   #Function to convert a signal vector x, like a mono audio signal, into a 3-d Tensor that conv1d of Pytorch expects,\n",
        "   #Argument x: a 1-d signal as numpy array\n",
        "   #input x[batch,sample]\n",
        "   #output: 3-d Tensor X for conv1d input.\n",
        "   #for conv1d Input: (N,Cin,Lin), Cin: numer of input channels (e.g. for stereo), Lin: length of signal, N: number of Batches (signals) \n",
        "   X = np.expand_dims(x, axis=0)  #add channels dimension (here only 1 channel)\n",
        "   if len(x.shape)==1: #mono:\n",
        "      X = np.expand_dims(X, axis=0)  #add batch dimension (here only 1 batch)\n",
        "   X=torch.from_numpy(X)\n",
        "   X=X.type(torch.Tensor)\n",
        "   X=X.permute(1,0,2)  #make batch dimension first\n",
        "   return X"
      ],
      "execution_count": null,
      "outputs": []
    },
    {
      "cell_type": "markdown",
      "metadata": {
        "id": "mOgFF5CjZYC6"
      },
      "source": [
        "# **Convolution autoencoder class consist of encoder,decoder,and forward propogation function**"
      ]
    },
    {
      "cell_type": "code",
      "metadata": {
        "id": "AcSvwgKTo4qi"
      },
      "source": [
        "class Convautoenc(nn.Module):\n",
        "   def __init__(self):\n",
        "      super(Convautoenc, self).__init__()\n",
        "      #Analysis Filterbank with downsampling of N=1024, filter length of 2N, but only N/2 outputs:\n",
        "      self.conv1=nn.Conv1d(in_channels=1, out_channels=32, kernel_size=2048, stride=1024, padding=1023, bias=True) #Padding for 'same' filters (kernel_size/2-1)\n",
        "\n",
        "      #Synthesis filter bank:\n",
        "      self.synconv1=nn.ConvTranspose1d(in_channels=32, out_channels=1, kernel_size=2048, stride=1024, padding=1023, bias=True)\n",
        "\n",
        "   def encoder(self, x):\n",
        "      #Analysis:\n",
        "      x = self.conv1(x)\n",
        "      y = torch.tanh(x)\n",
        "      return y\n",
        "      \n",
        "   def decoder(self, y):\n",
        "      #Synthesis:\n",
        "      xrek= self.synconv1(y)\n",
        "      return xrek\n",
        "      \n",
        "   def forward(self, x):\n",
        "      y=self.encoder(x)\n",
        "      #y=torch.round(y/0.125)*0.125\n",
        "      xrek=self.decoder(y)\n",
        "      return xrek"
      ],
      "execution_count": null,
      "outputs": []
    },
    {
      "cell_type": "markdown",
      "metadata": {
        "id": "UPc42kaSZtPj"
      },
      "source": [
        "# **Loading of Track16.wav file from github**"
      ]
    },
    {
      "cell_type": "code",
      "metadata": {
        "id": "wnZGYAWgpHeU",
        "outputId": "adcebc19-7200-402b-850f-c7d8bd721b3a",
        "colab": {
          "base_uri": "https://localhost:8080/",
          "height": 248
        }
      },
      "source": [
        "!wget https://raw.githubusercontent.com/param1707/-Optimizing-a-neural-network-filter-bank-for-musical-instrument-classification-/main/Track16.wav\n",
        "print('Track16.wav loaded')"
      ],
      "execution_count": null,
      "outputs": [
        {
          "output_type": "stream",
          "text": [
            "--2020-10-27 19:31:26--  https://raw.githubusercontent.com/param1707/-Optimizing-a-neural-network-filter-bank-for-musical-instrument-classification-/main/Track16.wav\n",
            "Resolving raw.githubusercontent.com (raw.githubusercontent.com)... 151.101.0.133, 151.101.64.133, 151.101.128.133, ...\n",
            "Connecting to raw.githubusercontent.com (raw.githubusercontent.com)|151.101.0.133|:443... connected.\n",
            "HTTP request sent, awaiting response... 200 OK\n",
            "Length: 1790336 (1.7M) [audio/wav]\n",
            "Saving to: ‘Track16.wav’\n",
            "\n",
            "Track16.wav         100%[===================>]   1.71M  --.-KB/s    in 0.1s    \n",
            "\n",
            "2020-10-27 19:31:26 (15.4 MB/s) - ‘Track16.wav’ saved [1790336/1790336]\n",
            "\n",
            "Track16.wav loaded\n"
          ],
          "name": "stdout"
        }
      ]
    },
    {
      "cell_type": "markdown",
      "metadata": {
        "id": "StZ-fS_ob5nC"
      },
      "source": [
        "# **Processing and training of audio data with left channel**"
      ]
    },
    {
      "cell_type": "code",
      "metadata": {
        "id": "zzX3grHCpX_J",
        "outputId": "c3625e7f-7178-4d4c-e077-a4804edff53b",
        "colab": {
          "base_uri": "https://localhost:8080/",
          "height": 228
        }
      },
      "source": [
        "filename = 'Track16.wav'\n",
        "fs, audio = wav.read(filename)\n",
        "\n",
        "#make it mono left channel\n",
        "audio0=audio[:,0] \n",
        "\n",
        "#make it mono right channel\n",
        "audio1=audio[:,1] \n",
        "\n",
        "#normalization of left audio channel\n",
        "audio0=audio0*1.0/np.max(np.abs(audio0))\n",
        "print(\"audio0.shape=\", audio0.shape)\n",
        "\n",
        "#normalization of right audio channel \n",
        "audio1=audio1*1.0/np.max(np.abs(audio1))\n",
        "print(\"audio1.shape=\", audio1.shape)\n",
        "\n",
        "#Convert to pytorch format, (training with left audio channel)\n",
        "X=signal2pytorch(audio0)    \n",
        "\n",
        "print(\"Generate Model:\")\n",
        "model = Convautoenc()\n",
        "\n",
        "print(\"Def. loss function:\")\n",
        "loss_fn = nn.MSELoss()\n",
        "\n",
        "# It is an unsupervised training so there is no target signal,we will use input signal for getting target values.\n",
        "Ypred=model(X)\n",
        "\n",
        "#length of the signal at the output of the network.\n",
        "outputlen=len(Ypred[0,0,:]) \n",
        "print(\"outputlen=\", outputlen)\n",
        "\n",
        "#the target signal with same length as model output\n",
        "Y=X[:,:,:outputlen]  \n",
        "\n",
        "print(\"Input X.shape=\", X.shape )\n",
        "print(\"Target Y.shape=\", Y.shape)\n",
        "print(\"Target Y=\", Y)\n",
        "\n",
        "print(\"Y.type()=\", Y.type())\n",
        "\n",
        "\n",
        "learning_rate = 1e-4\n",
        "optimizer = torch.optim.Adam(model.parameters(), lr=learning_rate)\n",
        "\n",
        "Ypred=model(X)\n",
        "#Ypred=Ypred.detach()\n",
        "print(\"Ypred=\", Ypred)"
      ],
      "execution_count": null,
      "outputs": [
        {
          "output_type": "stream",
          "text": [
            "audio0.shape= (447573,)\n",
            "audio1.shape= (447573,)\n",
            "Generate Model:\n",
            "Def. loss function:\n",
            "outputlen= 447490\n",
            "Input X.shape= torch.Size([1, 1, 447573])\n",
            "Target Y.shape= torch.Size([1, 1, 447490])\n",
            "Target Y= tensor([[[ 0.0000e+00,  0.0000e+00,  0.0000e+00,  ..., -4.5912e-05,\n",
            "           4.5912e-05, -4.5912e-05]]])\n",
            "Y.type()= torch.FloatTensor\n",
            "Ypred= tensor([[[0.0034, 0.0069, 0.0056,  ..., 0.0072, 0.0029, 0.0062]]],\n",
            "       grad_fn=<SqueezeBackward1>)\n"
          ],
          "name": "stdout"
        }
      ]
    },
    {
      "cell_type": "code",
      "metadata": {
        "id": "5ARdFJnKqei7",
        "outputId": "3ae5c72a-0ba8-4e2c-cec8-a1119a5464d2",
        "colab": {
          "base_uri": "https://localhost:8080/",
          "height": 1000
        }
      },
      "source": [
        "losses = np.zeros(1999)\n",
        "for epoch in range(2000):\n",
        "          Ypred=model(X)\n",
        "          loss=loss_fn(Ypred, Y)\n",
        "          losses[epoch - 1] = loss.item()\n",
        "          if epoch%10==0:\n",
        "             print(epoch, loss.item())\n",
        "          optimizer.zero_grad()\n",
        "          loss.backward()\n",
        "          optimizer.step()"
      ],
      "execution_count": null,
      "outputs": [
        {
          "output_type": "stream",
          "text": [
            "0 0.03495403379201889\n",
            "10 0.033849090337753296\n",
            "20 0.031854297965765\n",
            "30 0.029526237398386\n",
            "40 0.027623824775218964\n",
            "50 0.02600894309580326\n",
            "60 0.02440592460334301\n",
            "70 0.022868193686008453\n",
            "80 0.021524103358387947\n",
            "90 0.02040822245180607\n",
            "100 0.019474053755402565\n",
            "110 0.01865166239440441\n",
            "120 0.017889639362692833\n",
            "130 0.017162231728434563\n",
            "140 0.016459207981824875\n",
            "150 0.01577514037489891\n",
            "160 0.01510612666606903\n",
            "170 0.014450875110924244\n",
            "180 0.013811488635838032\n",
            "190 0.013192675076425076\n",
            "200 0.012599884532392025\n",
            "210 0.012037569656968117\n",
            "220 0.011508366093039513\n",
            "230 0.011012997478246689\n",
            "240 0.010550799779593945\n",
            "250 0.010120122693479061\n",
            "260 0.009718711487948895\n",
            "270 0.00934404693543911\n",
            "280 0.0089936638250947\n",
            "290 0.008664949797093868\n",
            "300 0.008355781435966492\n",
            "310 0.008064267225563526\n",
            "320 0.00778880575671792\n",
            "330 0.007528100628405809\n",
            "340 0.007281102705746889\n",
            "350 0.007046987768262625\n",
            "360 0.006825087126344442\n",
            "370 0.006614857818931341\n",
            "380 0.006415811832994223\n",
            "390 0.006227496545761824\n",
            "400 0.006049439776688814\n",
            "410 0.005881169345229864\n",
            "420 0.005722129251807928\n",
            "430 0.005571771413087845\n",
            "440 0.005429540760815144\n",
            "450 0.005294890142977238\n",
            "460 0.00516723096370697\n",
            "470 0.005046061240136623\n",
            "480 0.004930888768285513\n",
            "490 0.004821251146495342\n",
            "500 0.00471674045547843\n",
            "510 0.004616952501237392\n",
            "520 0.0045215715654194355\n",
            "530 0.0044302367605268955\n",
            "540 0.004342676606029272\n",
            "550 0.004258639179170132\n",
            "560 0.004177902825176716\n",
            "570 0.004100271034985781\n",
            "580 0.004025562200695276\n",
            "590 0.003953618463128805\n",
            "600 0.0038842828944325447\n",
            "610 0.0038174365181475878\n",
            "620 0.0037529519759118557\n",
            "630 0.00369070703163743\n",
            "640 0.0036305978428572416\n",
            "650 0.0035725135821849108\n",
            "660 0.003516349708661437\n",
            "670 0.003462002146989107\n",
            "680 0.003409379394724965\n",
            "690 0.003358379704877734\n",
            "700 0.0033089027274399996\n",
            "710 0.0032608595211058855\n",
            "720 0.003214172786101699\n",
            "730 0.003168755676597357\n",
            "740 0.0031245339196175337\n",
            "750 0.0030814374331384897\n",
            "760 0.0030393984634429216\n",
            "770 0.0029983646236360073\n",
            "780 0.002958277240395546\n",
            "790 0.0029190881177783012\n",
            "800 0.00288075371645391\n",
            "810 0.0028432414401322603\n",
            "820 0.0028065014630556107\n",
            "830 0.002770516090095043\n",
            "840 0.0027352466713637114\n",
            "850 0.0027006736490875483\n",
            "860 0.0026667718775570393\n",
            "870 0.0026335311122238636\n",
            "880 0.0026009264402091503\n",
            "890 0.0025689448229968548\n",
            "900 0.0025375632103532553\n",
            "910 0.0025067811366170645\n",
            "920 0.0024765809066593647\n",
            "930 0.002446952974423766\n",
            "940 0.002417886396870017\n",
            "950 0.0023893723264336586\n",
            "960 0.002361399820074439\n",
            "970 0.0023339746985584497\n",
            "980 0.0023070762399584055\n",
            "990 0.002280695363879204\n",
            "1000 0.002254829742014408\n",
            "1010 0.0022294833324849606\n",
            "1020 0.002204631920903921\n",
            "1030 0.002180279465392232\n",
            "1040 0.0021564222406595945\n",
            "1050 0.002133054193109274\n",
            "1060 0.0021101676393300295\n",
            "1070 0.0020877637434750795\n",
            "1080 0.0020658287685364485\n",
            "1090 0.0020443617831915617\n",
            "1100 0.0020233551040291786\n",
            "1110 0.002002802211791277\n",
            "1120 0.001982700079679489\n",
            "1130 0.0019630342721939087\n",
            "1140 0.0019438025774434209\n",
            "1150 0.001924996729940176\n",
            "1160 0.0019066085806116462\n",
            "1170 0.0018886293983086944\n",
            "1180 0.0018710489384829998\n",
            "1190 0.0018538638250902295\n",
            "1200 0.0018370605539530516\n",
            "1210 0.0018206320237368345\n",
            "1220 0.001804568339139223\n",
            "1230 0.0017888597212731838\n",
            "1240 0.0017734962748363614\n",
            "1250 0.0017584747401997447\n",
            "1260 0.0017437792848795652\n",
            "1270 0.0017294069984927773\n",
            "1280 0.001715346472337842\n",
            "1290 0.0017015878111124039\n",
            "1300 0.0016881237970665097\n",
            "1310 0.001674945349805057\n",
            "1320 0.0016620457172393799\n",
            "1330 0.001649415004067123\n",
            "1340 0.001637046691030264\n",
            "1350 0.0016249350737780333\n",
            "1360 0.0016130702570080757\n",
            "1370 0.001601443625986576\n",
            "1380 0.0015900511061772704\n",
            "1390 0.001578883733600378\n",
            "1400 0.0015679356874898076\n",
            "1410 0.0015572004485875368\n",
            "1420 0.0015466709155589342\n",
            "1430 0.0015363403363153338\n",
            "1440 0.0015262047527357936\n",
            "1450 0.001516255782917142\n",
            "1460 0.0015064878389239311\n",
            "1470 0.0014968967298045754\n",
            "1480 0.00148747768253088\n",
            "1490 0.0014782242942601442\n",
            "1500 0.001469130627810955\n",
            "1510 0.0014601930743083358\n",
            "1520 0.001451407908461988\n",
            "1530 0.0014427689602598548\n",
            "1540 0.0014342739013954997\n",
            "1550 0.0014259162126109004\n",
            "1560 0.0014176936820149422\n",
            "1570 0.00140960025601089\n",
            "1580 0.001401637215167284\n",
            "1590 0.0013937950134277344\n",
            "1600 0.0013860748149454594\n",
            "1610 0.0013784704497084022\n",
            "1620 0.0013709795894101262\n",
            "1630 0.0013636004878208041\n",
            "1640 0.0013563311658799648\n",
            "1650 0.0013491681311279535\n",
            "1660 0.001342106144875288\n",
            "1670 0.0013351477682590485\n",
            "1680 0.001328286132775247\n",
            "1690 0.0013215215876698494\n",
            "1700 0.0013148513389751315\n",
            "1710 0.0013082738732919097\n",
            "1720 0.0013017880264669657\n",
            "1730 0.001295391353778541\n",
            "1740 0.001289080479182303\n",
            "1750 0.0012828571489080787\n",
            "1760 0.0012767185689881444\n",
            "1770 0.0012706629931926727\n",
            "1780 0.0012646878603845835\n",
            "1790 0.0012587944511324167\n",
            "1800 0.0012529793893918395\n",
            "1810 0.0012472426751628518\n",
            "1820 0.0012415841920301318\n",
            "1830 0.0012360011460259557\n",
            "1840 0.001230491790920496\n",
            "1850 0.0012250576401129365\n",
            "1860 0.0012196956668049097\n",
            "1870 0.0012144061038270593\n",
            "1880 0.0012091884855180979\n",
            "1890 0.0012040401343256235\n",
            "1900 0.0011989613994956017\n",
            "1910 0.001193951815366745\n",
            "1920 0.0011890111491084099\n",
            "1930 0.0011841361410915852\n",
            "1940 0.0011793281883001328\n",
            "1950 0.0011745876399800181\n",
            "1960 0.0011699104215949774\n",
            "1970 0.001165298162959516\n",
            "1980 0.0011607505148276687\n",
            "1990 0.0011562645668163896\n"
          ],
          "name": "stdout"
        }
      ]
    },
    {
      "cell_type": "code",
      "metadata": {
        "id": "k0k7jovvsFWW",
        "outputId": "8ff5e0c1-1c77-40db-b117-d484c4259cf2",
        "colab": {
          "base_uri": "https://localhost:8080/",
          "height": 52
        }
      },
      "source": [
        "print(range(epoch))\n",
        "print(losses)"
      ],
      "execution_count": null,
      "outputs": [
        {
          "output_type": "stream",
          "text": [
            "range(0, 1999)\n",
            "[0.03485594 0.03476189 0.0346689  ... 0.00115316 0.00115272 0.00115228]\n"
          ],
          "name": "stdout"
        }
      ]
    },
    {
      "cell_type": "markdown",
      "metadata": {
        "id": "-VxOu793cXJA"
      },
      "source": [
        "# **Graph with the number of epochs vs the training loss**"
      ]
    },
    {
      "cell_type": "code",
      "metadata": {
        "id": "ukPSfCrtsW6P",
        "outputId": "cf675201-295b-442a-f7d4-3c4a89e3ae75",
        "colab": {
          "base_uri": "https://localhost:8080/",
          "height": 295
        }
      },
      "source": [
        "plt.figure(1)\n",
        "\n",
        "plt.plot(range(epoch),losses)\n",
        "plt.title('Training loss');\n",
        "plt.xlabel('epoch'); plt.ylabel('Loss');\n",
        "plt.show()"
      ],
      "execution_count": null,
      "outputs": [
        {
          "output_type": "display_data",
          "data": {
            "image/png": "[encoded data removed]",
            "text/plain": [
              "<Figure size 432x288 with 1 Axes>"
            ]
          },
          "metadata": {
            "tags": [],
            "needs_background": "light"
          }
        }
      ]
    },
    {
      "cell_type": "markdown",
      "metadata": {
        "id": "-hUdhWsfg7TC"
      },
      "source": [
        "# **Testing of the model with Right Channel**"
      ]
    },
    {
      "cell_type": "code",
      "metadata": {
        "id": "CNQiApIBk9YE"
      },
      "source": [
        ""
      ],
      "execution_count": null,
      "outputs": []
    },
    {
      "cell_type": "code",
      "metadata": {
        "id": "ohSGSFTZhTsk"
      },
      "source": [
        "#Convert to pytorch format (testing with right audio channel)\n",
        "X=signal2pytorch(audio1)\n",
        "\n",
        "# Make Predictions based on the obtained weights, on right audio channel(test audio)\n",
        "predictions=model(X) \n",
        "predictions=predictions.detach()\n",
        "predictions=np.array(predictions)\n",
        "\n",
        "plt.plot(np.array(X[0,0,:]))\n",
        "plt.plot(predictions[0,0,:])\n",
        "plt.legend(('Original','Predicted'))\n",
        "plt.title('The Original and Predicted Signal, Right audio channel')\n",
        "plt.xlabel('Sample')\n",
        "plt.show()\n",
        "\n",
        "xrek=predictions[:,0,:]"
      ],
      "execution_count": null,
      "outputs": []
    }
  ]
}