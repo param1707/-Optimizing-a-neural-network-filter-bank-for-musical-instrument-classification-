{
  "nbformat": 4,
  "nbformat_minor": 0,
  "metadata": {
    "colab": {
      "name": "Untitled0.ipynb",
      "provenance": [],
      "authorship_tag": "ABX9TyOmMXUmwG5ZVBK33+AJuhNH",
      "include_colab_link": true
    },
    "kernelspec": {
      "name": "python3",
      "display_name": "Python 3"
    }
  },
  "cells": [
    {
      "cell_type": "markdown",
      "metadata": {
        "id": "view-in-github",
        "colab_type": "text"
      },
      "source": [
        "<a href=\"https://colab.research.google.com/github/param1707/-Optimizing-a-neural-network-filter-bank-for-musical-instrument-classification-/blob/main/firstPythonProgram.ipynb\" target=\"_parent\"><img src=\"https://colab.research.google.com/assets/colab-badge.svg\" alt=\"Open In Colab\"/></a>"
      ]
    },
    {
      "cell_type": "markdown",
      "metadata": {
        "id": "B_2WxxwpRAag"
      },
      "source": [
        "# My First Python Program On Google **Colab**"
      ]
    },
    {
      "cell_type": "code",
      "metadata": {
        "id": "VgO8JUHfQw9Q",
        "outputId": "e9df60be-1944-4371-825a-87147fcdd047",
        "colab": {
          "base_uri": "https://localhost:8080/",
          "height": 52
        }
      },
      "source": [
        "print(\"enter a name:\")\n",
        "s = 'Param'\n",
        "print(\"hello world his name is\",s)"
      ],
      "execution_count": 4,
      "outputs": [
        {
          "output_type": "stream",
          "text": [
            "enter a name:\n",
            "hello world his name is Param\n"
          ],
          "name": "stdout"
        }
      ]
    }
  ]
}